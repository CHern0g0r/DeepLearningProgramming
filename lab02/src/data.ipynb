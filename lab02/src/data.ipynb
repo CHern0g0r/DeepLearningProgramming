{
 "cells": [
  {
   "cell_type": "code",
   "execution_count": 1,
   "metadata": {},
   "outputs": [],
   "source": [
    "import json\n",
    "import matplotlib.pyplot as plt\n",
    "import pandas as pd\n",
    "import numpy as np\n",
    "\n",
    "from collections import Counter\n",
    "from tqdm.notebook import tqdm"
   ]
  },
  {
   "cell_type": "code",
   "execution_count": 2,
   "metadata": {},
   "outputs": [],
   "source": [
    "ann_path = '../data/COIN.json'"
   ]
  },
  {
   "cell_type": "code",
   "execution_count": 25,
   "metadata": {},
   "outputs": [
    {
     "name": "stdout",
     "output_type": "stream",
     "text": [
      "<class 'dict'>\n"
     ]
    }
   ],
   "source": [
    "with open(ann_path, 'r') as f:\n",
    "    ann = json.load(f)\n",
    "print(type(ann))"
   ]
  },
  {
   "cell_type": "code",
   "execution_count": 26,
   "metadata": {},
   "outputs": [
    {
     "name": "stdout",
     "output_type": "stream",
     "text": [
      "dict_keys(['database'])\n",
      "11827\n",
      "recipe_type: 122\n",
      "annotation: [{'id': '325', 'segment': [25.0, 30.0], 'label': 'pull up the hair to reserve place for the hair extensions'}, {'id': '326', 'segment': [31.0, 49.0], 'label': 'put on the hair extensions'}, {'id': '327', 'segment': [107.0, 117.0], 'label': 'put down the hair and comb'}]\n",
      "video_url: https://www.youtube.com/embed/xZecGPPhbHE\n",
      "start: 19.621378525393986\n",
      "end: 134.36378671172514\n",
      "duration: 185.085\n",
      "class: PutOnHairExtensions\n",
      "subset: testing\n"
     ]
    }
   ],
   "source": [
    "print(ann.keys())\n",
    "db = ann['database']\n",
    "print(len(db.keys()))\n",
    "row = db[list(db.keys())[0]]\n",
    "for k, v in row.items():\n",
    "    print(f'{k}: {v}')"
   ]
  },
  {
   "cell_type": "code",
   "execution_count": 27,
   "metadata": {},
   "outputs": [],
   "source": [
    "classes = [row['class'] for _, row in db.items()]\n",
    "cnt_cls = Counter(classes)\n",
    "recipes = [row['recipe_type'] for _, row in db.items()]\n",
    "cnt_rec = Counter(recipes)"
   ]
  },
  {
   "cell_type": "code",
   "execution_count": 28,
   "metadata": {},
   "outputs": [
    {
     "name": "stdout",
     "output_type": "stream",
     "text": [
      "180\n",
      "180\n"
     ]
    }
   ],
   "source": [
    "print(len(cnt_cls))\n",
    "print(len(cnt_rec))"
   ]
  },
  {
   "cell_type": "code",
   "execution_count": 29,
   "metadata": {},
   "outputs": [
    {
     "data": {
      "image/png": "[encoded data removed]",
      "text/plain": [
       "<Figure size 1500x500 with 2 Axes>"
      ]
     },
     "metadata": {},
     "output_type": "display_data"
    }
   ],
   "source": [
    "fig, (ax0, ax1) = plt.subplots(1, 2, figsize=(15, 5))\n",
    "ax0.hist(cnt_cls.values(), 30)\n",
    "ax1.hist(cnt_cls.values(), 30)\n",
    "fig.show()"
   ]
  },
  {
   "cell_type": "code",
   "execution_count": 30,
   "metadata": {},
   "outputs": [],
   "source": [
    "def build_df(db):\n",
    "    data = {\n",
    "        'id': [],\n",
    "        'cls_name': [],\n",
    "        'cls': [],\n",
    "        'subset': [],\n",
    "        'url': []\n",
    "    }\n",
    "    for key, record in tqdm(db.items()):\n",
    "        data['id'] += [key]\n",
    "        data['cls_name'] += [record['class']]\n",
    "        data['cls'] += [record['recipe_type']]\n",
    "        data['subset'] += [record['subset']]\n",
    "        data['url'] += [record['video_url']]\n",
    "    return pd.DataFrame(data)"
   ]
  },
  {
   "cell_type": "code",
   "execution_count": 31,
   "metadata": {},
   "outputs": [
    {
     "data": {
      "application/vnd.jupyter.widget-view+json": {
       "model_id": "2b813f693c1744c39bdb7b32e85589f6",
       "version_major": 2,
       "version_minor": 0
      },
      "text/plain": [
       "  0%|          | 0/11827 [00:00<?, ?it/s]"
      ]
     },
     "metadata": {},
     "output_type": "display_data"
    },
    {
     "name": "stdout",
     "output_type": "stream",
     "text": [
      "11827\n"
     ]
    }
   ],
   "source": [
    "res_df = build_df(db)\n",
    "print(len(res_df))\n",
    "res_df.head()\n",
    "res_df.to_csv('../data/COIN.csv', index=False)"
   ]
  },
  {
   "cell_type": "code",
   "execution_count": 21,
   "metadata": {},
   "outputs": [],
   "source": [
    "def conv(item):\n",
    "    return np.array(list(map(float, item[1:-1].split())))\n",
    "\n",
    "np.set_printoptions(threshold=1200)"
   ]
  },
  {
   "cell_type": "code",
   "execution_count": 27,
   "metadata": {},
   "outputs": [
    {
     "name": "stdout",
     "output_type": "stream",
     "text": [
      "9993\n"
     ]
    },
    {
     "data": {
      "text/html": [
       "<div>\n",
       "<style scoped>\n",
       "    .dataframe tbody tr th:only-of-type {\n",
       "        vertical-align: middle;\n",
       "    }\n",
       "\n",
       "    .dataframe tbody tr th {\n",
       "        vertical-align: top;\n",
       "    }\n",
       "\n",
       "    .dataframe thead th {\n",
       "        text-align: right;\n",
       "    }\n",
       "</style>\n",
       "<table border=\"1\" class=\"dataframe\">\n",
       "  <thead>\n",
       "    <tr style=\"text-align: right;\">\n",
       "      <th></th>\n",
       "      <th>id</th>\n",
       "      <th>emb</th>\n",
       "    </tr>\n",
       "  </thead>\n",
       "  <tbody>\n",
       "    <tr>\n",
       "      <th>0</th>\n",
       "      <td>gasbk4o89-M</td>\n",
       "      <td>[-1.2953628, -6.4995999, -1.3864385, 2.298152,...</td>\n",
       "    </tr>\n",
       "    <tr>\n",
       "      <th>1</th>\n",
       "      <td>wDLKxXpF_sE</td>\n",
       "      <td>[-2.4036715, -5.92186832, 6.61787796, 0.386046...</td>\n",
       "    </tr>\n",
       "  </tbody>\n",
       "</table>\n",
       "</div>"
      ],
      "text/plain": [
       "            id                                                emb\n",
       "0  gasbk4o89-M  [-1.2953628, -6.4995999, -1.3864385, 2.298152,...\n",
       "1  wDLKxXpF_sE  [-2.4036715, -5.92186832, 6.61787796, 0.386046..."
      ]
     },
     "execution_count": 27,
     "metadata": {},
     "output_type": "execute_result"
    }
   ],
   "source": [
    "edf_pth = '../data/aggl.csv'\n",
    "edf = pd.read_csv(edf_pth, converters={'emb': conv})\n",
    "# edf = pd.read_csv(edf_pth)\n",
    "print(len(edf))\n",
    "edf.head(2)"
   ]
  },
  {
   "cell_type": "code",
   "execution_count": 23,
   "metadata": {},
   "outputs": [
    {
     "name": "stdout",
     "output_type": "stream",
     "text": [
      "(1024,)\n"
     ]
    }
   ],
   "source": [
    "print(edf.loc[0, 'emb'].shape)"
   ]
  },
  {
   "cell_type": "code",
   "execution_count": 24,
   "metadata": {},
   "outputs": [
    {
     "name": "stdout",
     "output_type": "stream",
     "text": [
      "11827\n"
     ]
    },
    {
     "data": {
      "text/html": [
       "<div>\n",
       "<style scoped>\n",
       "    .dataframe tbody tr th:only-of-type {\n",
       "        vertical-align: middle;\n",
       "    }\n",
       "\n",
       "    .dataframe tbody tr th {\n",
       "        vertical-align: top;\n",
       "    }\n",
       "\n",
       "    .dataframe thead th {\n",
       "        text-align: right;\n",
       "    }\n",
       "</style>\n",
       "<table border=\"1\" class=\"dataframe\">\n",
       "  <thead>\n",
       "    <tr style=\"text-align: right;\">\n",
       "      <th></th>\n",
       "      <th>id</th>\n",
       "      <th>cls_name</th>\n",
       "      <th>cls</th>\n",
       "      <th>subset</th>\n",
       "      <th>url</th>\n",
       "    </tr>\n",
       "  </thead>\n",
       "  <tbody>\n",
       "    <tr>\n",
       "      <th>0</th>\n",
       "      <td>xZecGPPhbHE</td>\n",
       "      <td>PutOnHairExtensions</td>\n",
       "      <td>122</td>\n",
       "      <td>testing</td>\n",
       "      <td>https://www.youtube.com/embed/xZecGPPhbHE</td>\n",
       "    </tr>\n",
       "    <tr>\n",
       "      <th>1</th>\n",
       "      <td>NLy71UrHElw</td>\n",
       "      <td>PractisePoleVault</td>\n",
       "      <td>116</td>\n",
       "      <td>training</td>\n",
       "      <td>https://www.youtube.com/embed/NLy71UrHElw</td>\n",
       "    </tr>\n",
       "  </tbody>\n",
       "</table>\n",
       "</div>"
      ],
      "text/plain": [
       "            id             cls_name  cls    subset  \\\n",
       "0  xZecGPPhbHE  PutOnHairExtensions  122   testing   \n",
       "1  NLy71UrHElw    PractisePoleVault  116  training   \n",
       "\n",
       "                                         url  \n",
       "0  https://www.youtube.com/embed/xZecGPPhbHE  \n",
       "1  https://www.youtube.com/embed/NLy71UrHElw  "
      ]
     },
     "execution_count": 24,
     "metadata": {},
     "output_type": "execute_result"
    }
   ],
   "source": [
    "coin_pth = '../data/COIN.csv'\n",
    "df = pd.read_csv(coin_pth)\n",
    "print(len(df))\n",
    "df.head(2)"
   ]
  },
  {
   "cell_type": "code",
   "execution_count": 28,
   "metadata": {},
   "outputs": [
    {
     "name": "stdout",
     "output_type": "stream",
     "text": [
      "9993\n"
     ]
    },
    {
     "data": {
      "text/html": [
       "<div>\n",
       "<style scoped>\n",
       "    .dataframe tbody tr th:only-of-type {\n",
       "        vertical-align: middle;\n",
       "    }\n",
       "\n",
       "    .dataframe tbody tr th {\n",
       "        vertical-align: top;\n",
       "    }\n",
       "\n",
       "    .dataframe thead th {\n",
       "        text-align: right;\n",
       "    }\n",
       "</style>\n",
       "<table border=\"1\" class=\"dataframe\">\n",
       "  <thead>\n",
       "    <tr style=\"text-align: right;\">\n",
       "      <th></th>\n",
       "      <th>cls_name</th>\n",
       "      <th>cls</th>\n",
       "      <th>subset</th>\n",
       "      <th>url</th>\n",
       "      <th>emb</th>\n",
       "    </tr>\n",
       "    <tr>\n",
       "      <th>id</th>\n",
       "      <th></th>\n",
       "      <th></th>\n",
       "      <th></th>\n",
       "      <th></th>\n",
       "      <th></th>\n",
       "    </tr>\n",
       "  </thead>\n",
       "  <tbody>\n",
       "    <tr>\n",
       "      <th>xZecGPPhbHE</th>\n",
       "      <td>PutOnHairExtensions</td>\n",
       "      <td>122</td>\n",
       "      <td>testing</td>\n",
       "      <td>https://www.youtube.com/embed/xZecGPPhbHE</td>\n",
       "      <td>[-1.64960563, -1.18387651, 1.86178029, -1.8617...</td>\n",
       "    </tr>\n",
       "    <tr>\n",
       "      <th>NLy71UrHElw</th>\n",
       "      <td>PractisePoleVault</td>\n",
       "      <td>116</td>\n",
       "      <td>training</td>\n",
       "      <td>https://www.youtube.com/embed/NLy71UrHElw</td>\n",
       "      <td>[-0.91899359, -4.3114042, -7.8977823, -0.84243...</td>\n",
       "    </tr>\n",
       "  </tbody>\n",
       "</table>\n",
       "</div>"
      ],
      "text/plain": [
       "                        cls_name  cls    subset  \\\n",
       "id                                                \n",
       "xZecGPPhbHE  PutOnHairExtensions  122   testing   \n",
       "NLy71UrHElw    PractisePoleVault  116  training   \n",
       "\n",
       "                                                   url  \\\n",
       "id                                                       \n",
       "xZecGPPhbHE  https://www.youtube.com/embed/xZecGPPhbHE   \n",
       "NLy71UrHElw  https://www.youtube.com/embed/NLy71UrHElw   \n",
       "\n",
       "                                                           emb  \n",
       "id                                                              \n",
       "xZecGPPhbHE  [-1.64960563, -1.18387651, 1.86178029, -1.8617...  \n",
       "NLy71UrHElw  [-0.91899359, -4.3114042, -7.8977823, -0.84243...  "
      ]
     },
     "execution_count": 28,
     "metadata": {},
     "output_type": "execute_result"
    }
   ],
   "source": [
    "res_path = '../data/COINaggl.csv'\n",
    "res_df = df.set_index('id').join(edf.set_index('id'), how='inner')\n",
    "print(len(res_df))\n",
    "res_df.head(2)"
   ]
  },
  {
   "cell_type": "code",
   "execution_count": 29,
   "metadata": {},
   "outputs": [
    {
     "data": {
      "text/html": [
       "<div>\n",
       "<style scoped>\n",
       "    .dataframe tbody tr th:only-of-type {\n",
       "        vertical-align: middle;\n",
       "    }\n",
       "\n",
       "    .dataframe tbody tr th {\n",
       "        vertical-align: top;\n",
       "    }\n",
       "\n",
       "    .dataframe thead th {\n",
       "        text-align: right;\n",
       "    }\n",
       "</style>\n",
       "<table border=\"1\" class=\"dataframe\">\n",
       "  <thead>\n",
       "    <tr style=\"text-align: right;\">\n",
       "      <th></th>\n",
       "      <th>id</th>\n",
       "      <th>cls_name</th>\n",
       "      <th>cls</th>\n",
       "      <th>subset</th>\n",
       "      <th>url</th>\n",
       "      <th>emb</th>\n",
       "    </tr>\n",
       "  </thead>\n",
       "  <tbody>\n",
       "    <tr>\n",
       "      <th>0</th>\n",
       "      <td>xZecGPPhbHE</td>\n",
       "      <td>PutOnHairExtensions</td>\n",
       "      <td>122</td>\n",
       "      <td>testing</td>\n",
       "      <td>https://www.youtube.com/embed/xZecGPPhbHE</td>\n",
       "      <td>[-1.64960563, -1.18387651, 1.86178029, -1.8617...</td>\n",
       "    </tr>\n",
       "    <tr>\n",
       "      <th>1</th>\n",
       "      <td>NLy71UrHElw</td>\n",
       "      <td>PractisePoleVault</td>\n",
       "      <td>116</td>\n",
       "      <td>training</td>\n",
       "      <td>https://www.youtube.com/embed/NLy71UrHElw</td>\n",
       "      <td>[-0.91899359, -4.3114042, -7.8977823, -0.84243...</td>\n",
       "    </tr>\n",
       "  </tbody>\n",
       "</table>\n",
       "</div>"
      ],
      "text/plain": [
       "            id             cls_name  cls    subset  \\\n",
       "0  xZecGPPhbHE  PutOnHairExtensions  122   testing   \n",
       "1  NLy71UrHElw    PractisePoleVault  116  training   \n",
       "\n",
       "                                         url  \\\n",
       "0  https://www.youtube.com/embed/xZecGPPhbHE   \n",
       "1  https://www.youtube.com/embed/NLy71UrHElw   \n",
       "\n",
       "                                                 emb  \n",
       "0  [-1.64960563, -1.18387651, 1.86178029, -1.8617...  \n",
       "1  [-0.91899359, -4.3114042, -7.8977823, -0.84243...  "
      ]
     },
     "execution_count": 29,
     "metadata": {},
     "output_type": "execute_result"
    }
   ],
   "source": [
    "res_df.reset_index(inplace=True)\n",
    "res_df.to_csv(res_path, index=False)\n",
    "res_df.head(2)"
   ]
  },
  {
   "cell_type": "code",
   "execution_count": 33,
   "metadata": {},
   "outputs": [
    {
     "name": "stdout",
     "output_type": "stream",
     "text": [
      "9993\n"
     ]
    }
   ],
   "source": [
    "filename = 'COINnoaggl.csv'\n",
    "df_pth = f'../data/{filename}'\n",
    "test_pth = f'../data/test/{filename}'\n",
    "train_pth = f'../data/train/{filename}'\n",
    "df = pd.read_csv(df_pth)\n",
    "print(len(df))"
   ]
  },
  {
   "cell_type": "code",
   "execution_count": 34,
   "metadata": {},
   "outputs": [
    {
     "name": "stdout",
     "output_type": "stream",
     "text": [
      "2351 7642 0.2352646852796958\n"
     ]
    }
   ],
   "source": [
    "df_test = df[df['subset'] == 'testing']\n",
    "df_train = df[df['subset'] == 'training']\n",
    "print(len(df_test), len(df_train), len(df_test) / len(df))"
   ]
  },
  {
   "cell_type": "code",
   "execution_count": 35,
   "metadata": {},
   "outputs": [],
   "source": [
    "df_test.to_csv(test_pth, index=False)\n",
    "df_train.to_csv(train_pth, index=False)"
   ]
  },
  {
   "cell_type": "code",
   "execution_count": 20,
   "metadata": {},
   "outputs": [],
   "source": [
    "df_test = pd.read_csv(test_pth)\n",
    "df_train = pd.read_csv(train_pth)"
   ]
  },
  {
   "cell_type": "code",
   "execution_count": 9,
   "metadata": {},
   "outputs": [],
   "source": [
    "cnt_test = Counter(df_test['cls'])\n",
    "cnt_train = Counter(df_train['cls'])\n",
    "lte = len(df_test)\n",
    "ltr = len(df_train)"
   ]
  },
  {
   "cell_type": "code",
   "execution_count": 11,
   "metadata": {},
   "outputs": [
    {
     "data": {
      "image/png": "[encoded data removed]",
      "text/plain": [
       "<Figure size 1500x500 with 1 Axes>"
      ]
     },
     "metadata": {},
     "output_type": "display_data"
    }
   ],
   "source": [
    "barWidth = 0.25\n",
    "fig = plt.subplots(figsize =(15, 5))\n",
    " \n",
    "# set height of bar\n",
    "keys = list(cnt_test.keys())[30:70]\n",
    "_test, _train = [], []\n",
    "for k in keys:\n",
    "    _test.append(cnt_test[k] / lte)\n",
    "    _train.append(cnt_train[k] / ltr)\n",
    " \n",
    "# Set position of bar on X axis\n",
    "br1 = np.arange(len(keys))\n",
    "br2 = [x + barWidth for x in br1]\n",
    " \n",
    "# Make the plot\n",
    "plt.bar(br1, _test, color ='r', width = barWidth,\n",
    "        edgecolor ='grey', label ='test')\n",
    "plt.bar(br2, _train, color ='g', width = barWidth,\n",
    "        edgecolor ='grey', label ='train')\n",
    " \n",
    "# Adding Xticks\n",
    "plt.xticks([r + barWidth for r in range(len(keys))],\n",
    "           keys)\n",
    " \n",
    "plt.legend()\n",
    "plt.show()"
   ]
  },
  {
   "cell_type": "code",
   "execution_count": null,
   "metadata": {},
   "outputs": [],
   "source": []
  }
 ],
 "metadata": {
  "kernelspec": {
   "display_name": "default_env",
   "language": "python",
   "name": "python3"
  },
  "language_info": {
   "codemirror_mode": {
    "name": "ipython",
    "version": 3
   },
   "file_extension": ".py",
   "mimetype": "text/x-python",
   "name": "python",
   "nbconvert_exporter": "python",
   "pygments_lexer": "ipython3",
   "version": "3.9.13"
  },
  "orig_nbformat": 4,
  "vscode": {
   "interpreter": {
    "hash": "78bd4513a020f669c497f6a9dbf727ca3e8c42d17ca3c557af628e4ee95c57c2"
   }
  }
 },
 "nbformat": 4,
 "nbformat_minor": 2
}
