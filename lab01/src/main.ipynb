{
 "cells": [
  {
   "cell_type": "code",
   "execution_count": 91,
   "metadata": {},
   "outputs": [],
   "source": [
    "import torch\n",
    "import numpy as np\n",
    "import pandas as pd\n",
    "import torch.nn as nn\n",
    "\n",
    "from scipy.io import loadmat\n",
    "from torch.autograd import Variable\n",
    "from torchvision.models import efficientnet_b0\n",
    "from torch.nn import (\n",
    "    AdaptiveAvgPool2d,\n",
    "    Conv2d,\n",
    "    Linear,\n",
    "    SiLU,\n",
    "    Sigmoid,\n",
    "    Flatten,\n",
    "    Dropout,\n",
    "    BatchNorm2d\n",
    ")\n",
    "\n",
    "from numpy_utils.layers import (\n",
    "    Layer,\n",
    "    LinearLayer,\n",
    "    ConvLayer,\n",
    "    SiLULayer,\n",
    "    SigmoidLayer,\n",
    "    CrossEntropyLoss,\n",
    "    CrossEntropyCost,\n",
    "    SoftmaxLayer,\n",
    "    FlattenLayer,\n",
    "    OneLayer,\n",
    "    DropoutLayer,\n",
    "    BatchNorm2dLayer\n",
    ")\n",
    "from data_utils.dataset import CarsDataset\n",
    "from numpy_utils.utils import check_comb, ttn"
   ]
  },
  {
   "cell_type": "code",
   "execution_count": 7,
   "metadata": {},
   "outputs": [
    {
     "name": "stdout",
     "output_type": "stream",
     "text": [
      "The autoreload extension is already loaded. To reload it, use:\n",
      "  %reload_ext autoreload\n"
     ]
    }
   ],
   "source": [
    "# plt.rcParams['figure.figsize'] = (15, 5)\n",
    "%load_ext autoreload\n",
    "%autoreload 2"
   ]
  },
  {
   "cell_type": "code",
   "execution_count": 5,
   "metadata": {},
   "outputs": [],
   "source": [
    "def annot_mat_to_csv(mat_path, csv_path):\n",
    "    meta = loadmat(mat_path)\n",
    "    annots = meta['annotations']\n",
    "    c_name = annots[:, :][['class', 'fname']].squeeze(0)\n",
    "    c = list(map(lambda x: x.item(), c_name['class']))\n",
    "    name = list(map(lambda x: x.item(), c_name['fname']))\n",
    "    df = pd.DataFrame({\n",
    "        'class': c,\n",
    "        'fname': name\n",
    "    })\n",
    "    df.to_csv(csv_path, index=False)"
   ]
  },
  {
   "cell_type": "code",
   "execution_count": 6,
   "metadata": {},
   "outputs": [],
   "source": [
    "annot_mat_to_csv('../data/cars_train_annos.mat', '../data/train.csv')"
   ]
  },
  {
   "cell_type": "code",
   "execution_count": 112,
   "metadata": {},
   "outputs": [],
   "source": [
    "dts = CarsDataset('../data/train', '../data/train.csv')"
   ]
  },
  {
   "cell_type": "code",
   "execution_count": 132,
   "metadata": {},
   "outputs": [
    {
     "name": "stdout",
     "output_type": "stream",
     "text": [
      "(8144,) (8144,)\n"
     ]
    }
   ],
   "source": [
    "it = iter(dts)\n",
    "hws = np.array((list(map(lambda x: x[0].size, it))))\n",
    "h, w = map(lambda x: x.squeeze(1), np.split(hws, 2, axis=1))\n",
    "print(h.shape, w.shape)"
   ]
  },
  {
   "cell_type": "code",
   "execution_count": 135,
   "metadata": {},
   "outputs": [
    {
     "name": "stdout",
     "output_type": "stream",
     "text": [
      "654\n",
      "829\n"
     ]
    }
   ],
   "source": [
    "print(len(np.unique(h)))\n",
    "print(len(np.unique(w)))"
   ]
  },
  {
   "cell_type": "code",
   "execution_count": 31,
   "metadata": {},
   "outputs": [],
   "source": [
    "def compare(X, ft, fn, ac=True):\n",
    "    out = ft(X).detach().numpy()\n",
    "    outn = fn(X.detach().numpy())\n",
    "    print('MSE', np.power(out - outn, 2).sum())\n",
    "    if ac:\n",
    "        print('eq', np.allclose(out, outn))"
   ]
  },
  {
   "cell_type": "code",
   "execution_count": 19,
   "metadata": {},
   "outputs": [],
   "source": [
    "model = efficientnet_b0(weights=None)"
   ]
  },
  {
   "cell_type": "code",
   "execution_count": 7,
   "metadata": {},
   "outputs": [],
   "source": [
    "lt = Linear(512, 128)\n",
    "ln = LinearLayer(512, 128)"
   ]
  },
  {
   "cell_type": "code",
   "execution_count": 12,
   "metadata": {},
   "outputs": [],
   "source": [
    "ln.W = lt.weight.data.numpy()\n",
    "ln.b = lt.bias.data.numpy()"
   ]
  },
  {
   "cell_type": "code",
   "execution_count": 13,
   "metadata": {},
   "outputs": [],
   "source": [
    "X = torch.rand((1, 512))\n",
    "Xn = X.numpy()"
   ]
  },
  {
   "cell_type": "code",
   "execution_count": 14,
   "metadata": {},
   "outputs": [
    {
     "name": "stdout",
     "output_type": "stream",
     "text": [
      "6.5755734e-13\n",
      "False\n"
     ]
    }
   ],
   "source": [
    "out = lt(X).detach().numpy()\n",
    "outn = ln(Xn)\n",
    "print(np.power(out - outn, 2).sum())\n",
    "print(np.allclose(out, outn))"
   ]
  },
  {
   "cell_type": "code",
   "execution_count": 15,
   "metadata": {},
   "outputs": [],
   "source": [
    "ct = Conv2d(3, 4, 3)\n",
    "cn = ConvLayer(3, 4, 3)\n",
    "wt, bt = ct._parameters.values()\n",
    "# cn.W = np.transpose(wt.data.numpy(), (0, 1, 2, 3))\n",
    "cn.W = wt.data.numpy()\n",
    "cn.b = bt.data.numpy()"
   ]
  },
  {
   "cell_type": "code",
   "execution_count": 16,
   "metadata": {},
   "outputs": [],
   "source": [
    "X = torch.rand(4, 3, 5, 5)\n",
    "Xn = X.numpy()\n",
    "# Xn = np.arange(48).reshape(1, 3, 4, 4)"
   ]
  },
  {
   "cell_type": "code",
   "execution_count": 17,
   "metadata": {},
   "outputs": [
    {
     "name": "stdout",
     "output_type": "stream",
     "text": [
      "(4, 4, 3, 3) (4, 4, 3, 3)\n"
     ]
    }
   ],
   "source": [
    "out = ct(X).detach().numpy()\n",
    "outn = cn(Xn)\n",
    "print(*(x.shape for x in (out, outn)))"
   ]
  },
  {
   "cell_type": "code",
   "execution_count": 18,
   "metadata": {},
   "outputs": [
    {
     "name": "stdout",
     "output_type": "stream",
     "text": [
      "2.0724481e-13\n",
      "True\n"
     ]
    }
   ],
   "source": [
    "print(np.power(out - outn, 2).sum())\n",
    "# print(np.power(out - outn2, 2).sum())\n",
    "# print(np.power(out - outn3, 2).sum())\n",
    "# print(np.power(out - outn4, 2).sum())\n",
    "print(np.allclose(out, outn))\n",
    "# print(np.allclose(out, outn2))\n",
    "# print(np.allclose(out, outn3))\n",
    "# print(np.allclose(out, outn4))"
   ]
  },
  {
   "cell_type": "code",
   "execution_count": 41,
   "metadata": {},
   "outputs": [
    {
     "name": "stdout",
     "output_type": "stream",
     "text": [
      "MSE 1.339315e-13\n",
      "eq True\n",
      "MSE 1.314504e-13\n",
      "eq True\n"
     ]
    }
   ],
   "source": [
    "X = torch.rand(5, 3, 4, 4)\n",
    "compare(X, SiLU(), SiLULayer())\n",
    "compare(X, Sigmoid(), SigmoidLayer())"
   ]
  },
  {
   "cell_type": "code",
   "execution_count": 44,
   "metadata": {},
   "outputs": [
    {
     "name": "stdout",
     "output_type": "stream",
     "text": [
      "torch.Size([5, 3, 1, 1])\n"
     ]
    }
   ],
   "source": [
    "X = torch.rand(5, 3, 16, 16)\n",
    "avgpool = AdaptiveAvgPool2d(output_size=1)\n",
    "out = avgpool(X)\n",
    "print(out.shape)"
   ]
  },
  {
   "cell_type": "code",
   "execution_count": 20,
   "metadata": {},
   "outputs": [],
   "source": [
    "class Md(nn.Module):\n",
    "    def __init__(self) -> None:\n",
    "        super().__init__()\n",
    "        self.l1 = nn.Linear(8, 4)\n",
    "        self.act1 = nn.Sigmoid()\n",
    "\n",
    "    def forward(self, X):\n",
    "        x = self.l1(X)\n",
    "        x = self.act1(x)\n",
    "        return x"
   ]
  },
  {
   "cell_type": "code",
   "execution_count": 79,
   "metadata": {},
   "outputs": [],
   "source": [
    "# md = Md()\n",
    "md = nn.Linear(8, 4)\n",
    "mdn = LinearLayer(8, 4)\n",
    "mdn.W = md.weight.data.numpy()\n",
    "mdn.b = md.bias.data.numpy()\n",
    "crit = nn.CrossEntropyLoss(reduction='mean')\n",
    "critn = CrossEntropyLoss()"
   ]
  },
  {
   "cell_type": "code",
   "execution_count": 80,
   "metadata": {},
   "outputs": [],
   "source": [
    "X = torch.rand(5, 8)\n",
    "lab = torch.randint(0, 4, (5,))\n",
    "Xn = X.numpy()\n",
    "labn = lab.numpy()"
   ]
  },
  {
   "cell_type": "code",
   "execution_count": 82,
   "metadata": {},
   "outputs": [
    {
     "name": "stdout",
     "output_type": "stream",
     "text": [
      "tensor(1.3982, grad_fn=<NllLossBackward0>)\n",
      "1.3982131\n",
      "True\n"
     ]
    }
   ],
   "source": [
    "out = md(X)\n",
    "outn = mdn(Xn)\n",
    "loss = crit(out, lab)\n",
    "lossn = critn(outn, labn)"
   ]
  },
  {
   "cell_type": "code",
   "execution_count": 5,
   "metadata": {},
   "outputs": [],
   "source": [
    "crit = nn.CrossEntropyLoss(reduction='mean')\n",
    "critn = CrossEntropyLoss()\n",
    "sm = SoftmaxLayer()\n",
    "cre = CrossEntropyCost()"
   ]
  },
  {
   "cell_type": "code",
   "execution_count": 8,
   "metadata": {},
   "outputs": [],
   "source": [
    "X0 = torch.rand(10, 4, requires_grad=True)\n",
    "lab0 = torch.randint(0, 4, (10,))"
   ]
  },
  {
   "cell_type": "code",
   "execution_count": 27,
   "metadata": {},
   "outputs": [],
   "source": [
    "bs = 3\n",
    "# X = torch.rand(bs, 4, requires_grad=True)\n",
    "# lab = torch.randint(0, 4, (bs,))\n",
    "X = X0[:bs, :].clone().detach().requires_grad_(True)\n",
    "lab = lab0[:bs].clone().detach()\n",
    "Xn = X.detach().numpy()\n",
    "labn = lab.numpy()"
   ]
  },
  {
   "cell_type": "code",
   "execution_count": 28,
   "metadata": {},
   "outputs": [
    {
     "name": "stdout",
     "output_type": "stream",
     "text": [
      "True\n",
      "True\n"
     ]
    }
   ],
   "source": [
    "out1 = crit(X, lab)\n",
    "out2 = critn(Xn, labn)\n",
    "_out3 = sm(Xn)\n",
    "out3 = cre(_out3, labn)\n",
    "print(np.allclose(out1.detach(), out3))\n",
    "print(np.allclose(out1.detach(), out2))"
   ]
  },
  {
   "cell_type": "code",
   "execution_count": 52,
   "metadata": {},
   "outputs": [
    {
     "name": "stdout",
     "output_type": "stream",
     "text": [
      "Forward is right True\n"
     ]
    }
   ],
   "source": [
    "rest, resn, xts, xns, gt, gn = check_comb([crit], [sm, cre], X0, lab0, return_grad=True)"
   ]
  },
  {
   "cell_type": "code",
   "execution_count": 71,
   "metadata": {},
   "outputs": [],
   "source": [
    "md = nn.Linear(36, 4)\n",
    "mdn = LinearLayer(36, 4)\n",
    "mdn.W = md.weight.data.numpy()\n",
    "mdn.b = md.bias.data.numpy()\n",
    "sil = SiLU()\n",
    "siln = SiLULayer()\n",
    "sig = Sigmoid()\n",
    "sign = SigmoidLayer()\n",
    "crit = nn.CrossEntropyLoss(reduction='mean')\n",
    "critn = CrossEntropyLoss()\n",
    "c = Conv2d(3, 4, 3)\n",
    "cn = ConvLayer(3, 4, 3)\n",
    "cn.W = c.weight.data.numpy()\n",
    "cn.b = c.bias.data.numpy()\n",
    "f = Flatten()\n",
    "fn = FlattenLayer()\n",
    "trash = OneLayer()\n",
    "d = Dropout()\n",
    "dn = DropoutLayer()"
   ]
  },
  {
   "cell_type": "code",
   "execution_count": 72,
   "metadata": {},
   "outputs": [],
   "source": [
    "bs = 10\n",
    "X0 = torch.rand(bs, 3, 5, 5, requires_grad=True)\n",
    "# X0 = torch.rand(bs, 4, 3, 3, requires_grad=True)\n",
    "lab0 = torch.randint(0, 4, (bs,))"
   ]
  },
  {
   "cell_type": "code",
   "execution_count": 73,
   "metadata": {},
   "outputs": [
    {
     "name": "stdout",
     "output_type": "stream",
     "text": [
      "Forward is right False\n",
      "but 0.009922383821972858\n"
     ]
    }
   ],
   "source": [
    "res = check_comb([c, f, md, d, crit], [cn, fn, mdn, dn, critn], X0, lab0, return_grad=True)"
   ]
  },
  {
   "cell_type": "code",
   "execution_count": 79,
   "metadata": {},
   "outputs": [],
   "source": [
    "rest, resn, xts, xns, gt, gn = res\n"
   ]
  },
  {
   "cell_type": "code",
   "execution_count": 75,
   "metadata": {},
   "outputs": [
    {
     "name": "stdout",
     "output_type": "stream",
     "text": [
      "False\n"
     ]
    }
   ],
   "source": [
    "grad_idx = 1\n",
    "print('\\n'.join(map(lambda x: str(np.allclose(x[0], x[1])), zip(gt, gn, list(range(grad_idx))))))"
   ]
  },
  {
   "cell_type": "code",
   "execution_count": 93,
   "metadata": {},
   "outputs": [
    {
     "name": "stdout",
     "output_type": "stream",
     "text": [
      "torch.Size([10, 4]) torch.Size([10, 4]) torch.Size([10, 36]) torch.Size([10, 4, 3, 3]) torch.Size([10, 3, 5, 5])\n",
      "(10, 4) (10, 4) (10, 36) (10, 4, 3, 3) (10, 3, 5, 5)\n"
     ]
    }
   ],
   "source": [
    "print(*(t.shape for t in gt))\n",
    "print(*(t.shape for t in gn))"
   ]
  },
  {
   "cell_type": "code",
   "execution_count": 77,
   "metadata": {},
   "outputs": [
    {
     "name": "stdout",
     "output_type": "stream",
     "text": [
      "(10, 4) (10, 4) (10, 36) (10, 4, 3, 3) (10, 3, 5, 5)\n"
     ]
    }
   ],
   "source": [
    "print(*(t.shape for t in gn))"
   ]
  },
  {
   "cell_type": "code",
   "execution_count": 92,
   "metadata": {},
   "outputs": [
    {
     "name": "stdout",
     "output_type": "stream",
     "text": [
      "tensor([[ 0.0633,  0.0000,  0.0000, -0.1653],\n",
      "        [-0.0000,  0.0760,  0.0000,  0.0402],\n",
      "        [ 0.0000, -0.1272,  0.0000,  0.0000],\n",
      "        [-0.0000,  0.0809,  0.0456,  0.0000],\n",
      "        [ 0.0000, -0.1228,  0.0339,  0.0000],\n",
      "        [ 0.0000, -0.0000,  0.0510,  0.0362],\n",
      "        [-0.1463,  0.0000,  0.0000,  0.0000],\n",
      "        [-0.0000,  0.0000,  0.0602,  0.0377],\n",
      "        [ 0.0542,  0.0000, -0.1470,  0.0000],\n",
      "        [ 0.0000, -0.0991,  0.0422,  0.0247]])\n",
      "tensor([[ 0.2163,  0.0000, -0.0000, -0.3864],\n",
      "        [-0.0000,  0.5961,  0.0000, -0.0397],\n",
      "        [ 0.0000,  0.5415, -0.0000, -0.0000],\n",
      "        [ 0.0000,  0.7877,  0.2139, -0.0000],\n",
      "        [ 0.0000,  0.5527, -0.2694, -0.0000],\n",
      "        [-0.0000,  0.0000, -0.1006, -0.4424],\n",
      "        [ 0.0966,  0.0000,  0.0000, -0.0000],\n",
      "        [ 0.0000,  0.0000,  0.1641, -0.3050],\n",
      "        [ 0.1539,  0.0000,  0.1315, -0.0000],\n",
      "        [ 0.0000,  1.1375,  0.2652, -0.2711]], grad_fn=<MulBackward0>)\n"
     ]
    }
   ],
   "source": [
    "print(gt[1])\n",
    "print(xts[-2])"
   ]
  },
  {
   "cell_type": "code",
   "execution_count": 94,
   "metadata": {},
   "outputs": [
    {
     "name": "stdout",
     "output_type": "stream",
     "text": [
      "[[ 0.          0.          0.10471173 -0.32511926]\n",
      " [-0.          0.15200438  0.          0.08049306]\n",
      " [ 0.         -0.          0.10395467  0.08471501]\n",
      " [-0.3215828   0.15933484  0.08976756  0.        ]\n",
      " [ 0.11777936 -0.2687593   0.          0.07546361]\n",
      " [ 0.         -0.          0.          0.07055595]\n",
      " [-0.          0.21036966  0.08224199  0.03920759]\n",
      " [-0.29422635  0.          0.11891925  0.07438882]\n",
      " [ 0.11197607  0.         -0.          0.        ]\n",
      " [ 0.08538949 -0.21904215  0.07563496  0.        ]]\n",
      "[[ 0.0000000e+00  0.0000000e+00 -5.1120251e-02 -3.8643467e-01]\n",
      " [-0.0000000e+00  5.9605771e-01  0.0000000e+00 -3.9680533e-02]\n",
      " [ 0.0000000e+00  0.0000000e+00 -1.6320199e-02 -2.2098236e-01]\n",
      " [ 7.8727275e-02  7.8769195e-01  2.1390778e-01 -0.0000000e+00]\n",
      " [ 4.4446349e-01  5.5268353e-01 -0.0000000e+00 -6.9909543e-04]\n",
      " [-0.0000000e+00  0.0000000e+00 -0.0000000e+00 -4.4238818e-01]\n",
      " [ 0.0000000e+00  1.1267039e+00  1.8750355e-01 -5.5329198e-01]\n",
      " [ 4.6990812e-02  0.0000000e+00  1.6413398e-01 -3.0500498e-01]\n",
      " [ 1.5385386e-01  0.0000000e+00  0.0000000e+00 -0.0000000e+00]\n",
      " [ 3.8647515e-01  1.1375161e+00  2.6517060e-01 -0.0000000e+00]]\n"
     ]
    }
   ],
   "source": [
    "print(gn[1])\n",
    "print(xns[-2])"
   ]
  },
  {
   "cell_type": "code",
   "execution_count": null,
   "metadata": {},
   "outputs": [],
   "source": []
  }
 ],
 "metadata": {
  "kernelspec": {
   "display_name": "Python 3.9.7 ('jupyter_env')",
   "language": "python",
   "name": "python3"
  },
  "language_info": {
   "codemirror_mode": {
    "name": "ipython",
    "version": 3
   },
   "file_extension": ".py",
   "mimetype": "text/x-python",
   "name": "python",
   "nbconvert_exporter": "python",
   "pygments_lexer": "ipython3",
   "version": "3.9.7"
  },
  "orig_nbformat": 4,
  "vscode": {
   "interpreter": {
    "hash": "11e7b04fea54ca48423a4346d276b2eeee041e75d91fae35da36614c12a42435"
   }
  }
 },
 "nbformat": 4,
 "nbformat_minor": 2
}
