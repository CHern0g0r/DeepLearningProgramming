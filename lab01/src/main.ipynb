{
 "cells": [
  {
   "cell_type": "code",
   "execution_count": 2,
   "metadata": {},
   "outputs": [],
   "source": [
    "import re\n",
    "import json\n",
    "import torch\n",
    "import numpy as np\n",
    "import pandas as pd\n",
    "import torch.nn as nn\n",
    "import traceback\n",
    "\n",
    "from scipy.io import loadmat\n",
    "from torch.autograd import Variable\n",
    "from torchvision.models import efficientnet_b0\n",
    "from torch.nn import (\n",
    "    AdaptiveAvgPool2d,\n",
    "    Conv2d,\n",
    "    Linear,\n",
    "    SiLU,\n",
    "    Sigmoid,\n",
    "    Flatten,\n",
    "    Dropout,\n",
    "    BatchNorm2d,\n",
    "    Sequential\n",
    ")\n",
    "\n",
    "from numpy_utils.layers import (\n",
    "    Layer,\n",
    "    LinearLayer,\n",
    "    ConvLayer,\n",
    "    SiLULayer,\n",
    "    SigmoidLayer,\n",
    "    CrossEntropyLoss,\n",
    "    CrossEntropyCost,\n",
    "    SoftmaxLayer,\n",
    "    FlattenLayer,\n",
    "    OneLayer,\n",
    "    DropoutLayer,\n",
    "    BatchNorm2dLayer\n",
    ")\n",
    "from data_utils.dataset import CarsDataset\n",
    "from numpy_utils.utils import check_comb, ttn"
   ]
  },
  {
   "cell_type": "code",
   "execution_count": 3,
   "metadata": {},
   "outputs": [],
   "source": [
    "# plt.rcParams['figure.figsize'] = (15, 5)\n",
    "%load_ext autoreload\n",
    "%autoreload 2"
   ]
  },
  {
   "cell_type": "code",
   "execution_count": 5,
   "metadata": {},
   "outputs": [],
   "source": [
    "def annot_mat_to_csv(mat_path, csv_path):\n",
    "    meta = loadmat(mat_path)\n",
    "    annots = meta['annotations']\n",
    "    c_name = annots[:, :][['class', 'fname']].squeeze(0)\n",
    "    c = list(map(lambda x: x.item(), c_name['class']))\n",
    "    name = list(map(lambda x: x.item(), c_name['fname']))\n",
    "    df = pd.DataFrame({\n",
    "        'class': c,\n",
    "        'fname': name\n",
    "    })\n",
    "    df.to_csv(csv_path, index=False)"
   ]
  },
  {
   "cell_type": "code",
   "execution_count": 6,
   "metadata": {},
   "outputs": [],
   "source": [
    "annot_mat_to_csv('../data/cars_train_annos.mat', '../data/train.csv')"
   ]
  },
  {
   "cell_type": "code",
   "execution_count": 112,
   "metadata": {},
   "outputs": [],
   "source": [
    "dts = CarsDataset('../data/train', '../data/train.csv')"
   ]
  },
  {
   "cell_type": "code",
   "execution_count": 132,
   "metadata": {},
   "outputs": [
    {
     "name": "stdout",
     "output_type": "stream",
     "text": [
      "(8144,) (8144,)\n"
     ]
    }
   ],
   "source": [
    "it = iter(dts)\n",
    "hws = np.array((list(map(lambda x: x[0].size, it))))\n",
    "h, w = map(lambda x: x.squeeze(1), np.split(hws, 2, axis=1))\n",
    "print(h.shape, w.shape)"
   ]
  },
  {
   "cell_type": "code",
   "execution_count": 135,
   "metadata": {},
   "outputs": [
    {
     "name": "stdout",
     "output_type": "stream",
     "text": [
      "654\n",
      "829\n"
     ]
    }
   ],
   "source": [
    "print(len(np.unique(h)))\n",
    "print(len(np.unique(w)))"
   ]
  },
  {
   "cell_type": "code",
   "execution_count": 31,
   "metadata": {},
   "outputs": [],
   "source": [
    "def compare(X, ft, fn, ac=True):\n",
    "    out = ft(X).detach().numpy()\n",
    "    outn = fn(X.detach().numpy())\n",
    "    print('MSE', np.power(out - outn, 2).sum())\n",
    "    if ac:\n",
    "        print('eq', np.allclose(out, outn))"
   ]
  },
  {
   "cell_type": "code",
   "execution_count": 19,
   "metadata": {},
   "outputs": [],
   "source": [
    "model = efficientnet_b0(weights=None)"
   ]
  },
  {
   "cell_type": "code",
   "execution_count": 7,
   "metadata": {},
   "outputs": [],
   "source": [
    "lt = Linear(512, 128)\n",
    "ln = LinearLayer(512, 128)"
   ]
  },
  {
   "cell_type": "code",
   "execution_count": 12,
   "metadata": {},
   "outputs": [],
   "source": [
    "ln.W = lt.weight.data.numpy()\n",
    "ln.b = lt.bias.data.numpy()"
   ]
  },
  {
   "cell_type": "code",
   "execution_count": 13,
   "metadata": {},
   "outputs": [],
   "source": [
    "X = torch.rand((1, 512))\n",
    "Xn = X.numpy()"
   ]
  },
  {
   "cell_type": "code",
   "execution_count": 14,
   "metadata": {},
   "outputs": [
    {
     "name": "stdout",
     "output_type": "stream",
     "text": [
      "6.5755734e-13\n",
      "False\n"
     ]
    }
   ],
   "source": [
    "out = lt(X).detach().numpy()\n",
    "outn = ln(Xn)\n",
    "print(np.power(out - outn, 2).sum())\n",
    "print(np.allclose(out, outn))"
   ]
  },
  {
   "cell_type": "code",
   "execution_count": 15,
   "metadata": {},
   "outputs": [],
   "source": [
    "ct = Conv2d(3, 4, 3)\n",
    "cn = ConvLayer(3, 4, 3)\n",
    "wt, bt = ct._parameters.values()\n",
    "# cn.W = np.transpose(wt.data.numpy(), (0, 1, 2, 3))\n",
    "cn.W = wt.data.numpy()\n",
    "cn.b = bt.data.numpy()"
   ]
  },
  {
   "cell_type": "code",
   "execution_count": 16,
   "metadata": {},
   "outputs": [],
   "source": [
    "X = torch.rand(4, 3, 5, 5)\n",
    "Xn = X.numpy()\n",
    "# Xn = np.arange(48).reshape(1, 3, 4, 4)"
   ]
  },
  {
   "cell_type": "code",
   "execution_count": 17,
   "metadata": {},
   "outputs": [
    {
     "name": "stdout",
     "output_type": "stream",
     "text": [
      "(4, 4, 3, 3) (4, 4, 3, 3)\n"
     ]
    }
   ],
   "source": [
    "out = ct(X).detach().numpy()\n",
    "outn = cn(Xn)\n",
    "print(*(x.shape for x in (out, outn)))"
   ]
  },
  {
   "cell_type": "code",
   "execution_count": 18,
   "metadata": {},
   "outputs": [
    {
     "name": "stdout",
     "output_type": "stream",
     "text": [
      "2.0724481e-13\n",
      "True\n"
     ]
    }
   ],
   "source": [
    "print(np.power(out - outn, 2).sum())\n",
    "# print(np.power(out - outn2, 2).sum())\n",
    "# print(np.power(out - outn3, 2).sum())\n",
    "# print(np.power(out - outn4, 2).sum())\n",
    "print(np.allclose(out, outn))\n",
    "# print(np.allclose(out, outn2))\n",
    "# print(np.allclose(out, outn3))\n",
    "# print(np.allclose(out, outn4))"
   ]
  },
  {
   "cell_type": "code",
   "execution_count": 41,
   "metadata": {},
   "outputs": [
    {
     "name": "stdout",
     "output_type": "stream",
     "text": [
      "MSE 1.339315e-13\n",
      "eq True\n",
      "MSE 1.314504e-13\n",
      "eq True\n"
     ]
    }
   ],
   "source": [
    "X = torch.rand(5, 3, 4, 4)\n",
    "compare(X, SiLU(), SiLULayer())\n",
    "compare(X, Sigmoid(), SigmoidLayer())"
   ]
  },
  {
   "cell_type": "code",
   "execution_count": 44,
   "metadata": {},
   "outputs": [
    {
     "name": "stdout",
     "output_type": "stream",
     "text": [
      "torch.Size([5, 3, 1, 1])\n"
     ]
    }
   ],
   "source": [
    "X = torch.rand(5, 3, 16, 16)\n",
    "avgpool = AdaptiveAvgPool2d(output_size=1)\n",
    "out = avgpool(X)\n",
    "print(out.shape)"
   ]
  },
  {
   "cell_type": "code",
   "execution_count": 20,
   "metadata": {},
   "outputs": [],
   "source": [
    "class Md(nn.Module):\n",
    "    def __init__(self) -> None:\n",
    "        super().__init__()\n",
    "        self.l1 = nn.Linear(8, 4)\n",
    "        self.act1 = nn.Sigmoid()\n",
    "\n",
    "    def forward(self, X):\n",
    "        x = self.l1(X)\n",
    "        x = self.act1(x)\n",
    "        return x"
   ]
  },
  {
   "cell_type": "code",
   "execution_count": 79,
   "metadata": {},
   "outputs": [],
   "source": [
    "# md = Md()\n",
    "md = nn.Linear(8, 4)\n",
    "mdn = LinearLayer(8, 4)\n",
    "mdn.W = md.weight.data.numpy()\n",
    "mdn.b = md.bias.data.numpy()\n",
    "crit = nn.CrossEntropyLoss(reduction='mean')\n",
    "critn = CrossEntropyLoss()"
   ]
  },
  {
   "cell_type": "code",
   "execution_count": 80,
   "metadata": {},
   "outputs": [],
   "source": [
    "X = torch.rand(5, 8)\n",
    "lab = torch.randint(0, 4, (5,))\n",
    "Xn = X.numpy()\n",
    "labn = lab.numpy()"
   ]
  },
  {
   "cell_type": "code",
   "execution_count": 82,
   "metadata": {},
   "outputs": [
    {
     "name": "stdout",
     "output_type": "stream",
     "text": [
      "tensor(1.3982, grad_fn=<NllLossBackward0>)\n",
      "1.3982131\n",
      "True\n"
     ]
    }
   ],
   "source": [
    "out = md(X)\n",
    "outn = mdn(Xn)\n",
    "loss = crit(out, lab)\n",
    "lossn = critn(outn, labn)"
   ]
  },
  {
   "cell_type": "code",
   "execution_count": 5,
   "metadata": {},
   "outputs": [],
   "source": [
    "crit = nn.CrossEntropyLoss(reduction='mean')\n",
    "critn = CrossEntropyLoss()\n",
    "sm = SoftmaxLayer()\n",
    "cre = CrossEntropyCost()"
   ]
  },
  {
   "cell_type": "code",
   "execution_count": 8,
   "metadata": {},
   "outputs": [],
   "source": [
    "X0 = torch.rand(10, 4, requires_grad=True)\n",
    "lab0 = torch.randint(0, 4, (10,))"
   ]
  },
  {
   "cell_type": "code",
   "execution_count": 27,
   "metadata": {},
   "outputs": [],
   "source": [
    "bs = 3\n",
    "# X = torch.rand(bs, 4, requires_grad=True)\n",
    "# lab = torch.randint(0, 4, (bs,))\n",
    "X = X0[:bs, :].clone().detach().requires_grad_(True)\n",
    "lab = lab0[:bs].clone().detach()\n",
    "Xn = X.detach().numpy()\n",
    "labn = lab.numpy()"
   ]
  },
  {
   "cell_type": "code",
   "execution_count": 28,
   "metadata": {},
   "outputs": [
    {
     "name": "stdout",
     "output_type": "stream",
     "text": [
      "True\n",
      "True\n"
     ]
    }
   ],
   "source": [
    "out1 = crit(X, lab)\n",
    "out2 = critn(Xn, labn)\n",
    "_out3 = sm(Xn)\n",
    "out3 = cre(_out3, labn)\n",
    "print(np.allclose(out1.detach(), out3))\n",
    "print(np.allclose(out1.detach(), out2))"
   ]
  },
  {
   "cell_type": "code",
   "execution_count": 52,
   "metadata": {},
   "outputs": [
    {
     "name": "stdout",
     "output_type": "stream",
     "text": [
      "Forward is right True\n"
     ]
    }
   ],
   "source": [
    "rest, resn, xts, xns, gt, gn = check_comb([crit], [sm, cre], X0, lab0, return_grad=True)"
   ]
  },
  {
   "cell_type": "code",
   "execution_count": 169,
   "metadata": {},
   "outputs": [],
   "source": [
    "md = nn.Linear(36, 4)\n",
    "mdn = LinearLayer(36, 4)\n",
    "mdn.W = md.weight.data.numpy()\n",
    "mdn.b = md.bias.data.numpy()\n",
    "sil = SiLU()\n",
    "siln = SiLULayer()\n",
    "sig = Sigmoid()\n",
    "sign = SigmoidLayer()\n",
    "crit = nn.CrossEntropyLoss(reduction='mean')\n",
    "critn = CrossEntropyLoss()\n",
    "c = Conv2d(3, 4, 3)\n",
    "cn = ConvLayer(3, 4, 3)\n",
    "cn.W = c.weight.data.numpy()\n",
    "cn.b = c.bias.data.numpy()\n",
    "f = Flatten()\n",
    "fn = FlattenLayer()\n",
    "trash = OneLayer()\n",
    "d = Dropout()\n",
    "dn = DropoutLayer()\n",
    "b = BatchNorm2d(4, track_running_stats=False)\n",
    "bn = BatchNorm2dLayer(4)\n",
    "bn.W = ttn(b.weight.data)\n",
    "bn.b = ttn(b.bias.data)"
   ]
  },
  {
   "cell_type": "code",
   "execution_count": 170,
   "metadata": {},
   "outputs": [],
   "source": [
    "bs = 10\n",
    "X0 = torch.rand(bs, 3, 5, 5, requires_grad=True)\n",
    "# X0 = torch.rand(bs, 4, 3, 3, requires_grad=True)\n",
    "lab0 = torch.randint(0, 4, (bs,))"
   ]
  },
  {
   "cell_type": "code",
   "execution_count": 172,
   "metadata": {},
   "outputs": [
    {
     "name": "stdout",
     "output_type": "stream",
     "text": [
      "Forward is right True\n",
      "but 1.4210854715202004e-14\n"
     ]
    }
   ],
   "source": [
    "try:\n",
    "    res = check_comb([c, b, f, md, crit], [cn, bn, fn, mdn, critn], X0, lab0, return_grad=True)\n",
    "except:\n",
    "    traceback.print_exc()"
   ]
  },
  {
   "cell_type": "code",
   "execution_count": 150,
   "metadata": {},
   "outputs": [],
   "source": [
    "x = 0"
   ]
  },
  {
   "cell_type": "code",
   "execution_count": 157,
   "metadata": {},
   "outputs": [
    {
     "name": "stdout",
     "output_type": "stream",
     "text": [
      "tensor([-0.0811, -0.0107, -0.0752, -0.1199])\n",
      "tensor([-0.0270, -0.0036, -0.0251, -0.0400])\n",
      "tensor([-0.0541, -0.0071, -0.0502, -0.0799])\n",
      "[-0.08113413 -0.01070037 -0.07522777 -0.11986075]\n",
      "True\n",
      "True\n"
     ]
    }
   ],
   "source": [
    "print(b.weight.grad)\n",
    "print(b.weight.grad - x)\n",
    "print(x)\n",
    "print(bn.dW.squeeze())\n",
    "print(np.allclose(ttn(b.weight.grad), bn.dW))\n",
    "print(np.allclose(ttn(b.bias.grad), bn.db))"
   ]
  },
  {
   "cell_type": "code",
   "execution_count": 158,
   "metadata": {},
   "outputs": [],
   "source": [
    "x = b.weight.grad.clone()"
   ]
  },
  {
   "cell_type": "code",
   "execution_count": 88,
   "metadata": {},
   "outputs": [
    {
     "name": "stdout",
     "output_type": "stream",
     "text": [
      "5 5\n"
     ]
    }
   ],
   "source": [
    "rest, resn, xts, xns, gt, gn = res\n",
    "print(len(gt), len(gn))"
   ]
  },
  {
   "cell_type": "code",
   "execution_count": 89,
   "metadata": {},
   "outputs": [
    {
     "name": "stdout",
     "output_type": "stream",
     "text": [
      "True\n",
      "True\n",
      "True\n",
      "True\n",
      "True\n"
     ]
    }
   ],
   "source": [
    "grad_idx = 5\n",
    "print('\\n'.join(map(lambda x: str(np.allclose(x[0], x[1])), zip(gt, gn, list(range(grad_idx))))))"
   ]
  },
  {
   "cell_type": "code",
   "execution_count": 63,
   "metadata": {},
   "outputs": [
    {
     "name": "stdout",
     "output_type": "stream",
     "text": [
      "(10, 4) (10, 36) (10, 4, 3, 3) (10, 4, 3, 3) (10, 3, 5, 5)\n",
      "(10, 4) (10, 36) (10, 4, 3, 3) (10, 4, 3, 3) (10, 3, 5, 5)\n"
     ]
    }
   ],
   "source": [
    "print(*(tuple(t.shape) for t in gt))\n",
    "print(*(t.shape for t in gn))"
   ]
  },
  {
   "cell_type": "code",
   "execution_count": 70,
   "metadata": {},
   "outputs": [
    {
     "name": "stdout",
     "output_type": "stream",
     "text": [
      "tensor([[ 0.0646,  0.0195, -0.0254],\n",
      "        [-0.0161,  0.0286, -0.0563],\n",
      "        [ 0.0400,  0.0250, -0.0333]])\n",
      "[[ 7.59728431e-03 -1.85820546e-03 -8.14245131e-03]\n",
      " [-7.46808136e-03  2.95161937e-03 -1.38175009e-02]\n",
      " [ 4.11711577e-03 -9.15708765e-05 -9.75870219e-03]]\n"
     ]
    }
   ],
   "source": [
    "print(gt[-2][0, 0])\n",
    "print(gn[-2][0, 0])"
   ]
  },
  {
   "cell_type": "code",
   "execution_count": 43,
   "metadata": {},
   "outputs": [
    {
     "data": {
      "text/plain": [
       "{'name': 'BatchNorm2dLayer',\n",
       " 'train': True,\n",
       " 'num_features': 4,\n",
       " 'eps': 1e-05,\n",
       " 'momentum': 0.1,\n",
       " 'affine': True,\n",
       " 'running_mean': array([-0.01154409,  0.01309831,  0.03107366, -0.04870802]),\n",
       " 'running_var': array([0.90249629, 0.90206519, 0.90355392, 0.90378629]),\n",
       " 'num_batches_tracked': 1,\n",
       " 'W': array([1., 1., 1., 1.], dtype=float32),\n",
       " 'b': array([0., 0., 0., 0.], dtype=float32),\n",
       " 'dW': array([[[[0.0922328 ]],\n",
       " \n",
       "         [[0.14587638]],\n",
       " \n",
       "         [[0.3679763 ]],\n",
       " \n",
       "         [[0.02669937]]]], dtype=float32),\n",
       " 'db': array([[[[-0.02118808]],\n",
       " \n",
       "         [[ 0.01511887]],\n",
       " \n",
       "         [[-0.12616234]],\n",
       " \n",
       "         [[ 0.06261365]]]], dtype=float32),\n",
       " 'inp': array([[[[ 3.83493230e-02,  1.03554048e-01, -1.15713917e-01],\n",
       "          [-3.06732208e-01,  1.25251472e-01, -1.06752850e-01],\n",
       "          [-1.47490680e-01, -1.77042708e-02, -7.81535879e-02]],\n",
       " \n",
       "         [[ 2.81242937e-01,  1.89126551e-01, -1.31987661e-01],\n",
       "          [ 1.19614206e-01,  8.39956105e-04,  7.07836300e-02],\n",
       "          [ 6.25421181e-02,  3.29883724e-01, -8.07368755e-03]],\n",
       " \n",
       "         [[ 1.30349934e-01,  4.34608161e-01,  5.94590962e-01],\n",
       "          [ 3.59272003e-01, -1.53059959e-02,  6.90397322e-01],\n",
       "          [ 4.68995154e-01,  2.31067240e-02,  4.30511177e-01]],\n",
       " \n",
       "         [[-4.66346383e-01, -5.98112166e-01, -5.03504753e-01],\n",
       "          [-4.90108222e-01, -3.70706141e-01, -7.97030091e-01],\n",
       "          [-5.24083376e-01, -6.77079201e-01, -4.21788275e-01]]],\n",
       " \n",
       " \n",
       "        [[[-1.09567322e-01, -1.38380945e-01, -3.53257582e-02],\n",
       "          [-6.95455149e-02, -1.62617415e-01, -4.51504663e-02],\n",
       "          [ 1.03427462e-01, -2.90598512e-01, -2.96800509e-02]],\n",
       " \n",
       "         [[ 1.50259972e-01,  9.53424796e-02,  8.74187276e-02],\n",
       "          [-5.91734573e-02,  2.03090400e-01,  2.43120760e-01],\n",
       "          [ 1.48026973e-01,  3.42046857e-01,  1.96144834e-01]],\n",
       " \n",
       "         [[ 4.49018180e-01,  3.23848069e-01,  5.33252001e-01],\n",
       "          [ 8.82726908e-02,  3.41619849e-01,  6.88775957e-01],\n",
       "          [ 3.84465158e-01,  4.05271888e-01,  2.42062330e-01]],\n",
       " \n",
       "         [[-4.49109346e-01, -1.19706452e-01, -5.11182070e-01],\n",
       "          [-2.06662536e-01, -7.34933317e-01, -6.06057763e-01],\n",
       "          [-3.33060086e-01, -7.35449255e-01, -5.34067452e-01]]],\n",
       " \n",
       " \n",
       "        [[[-3.33024636e-02,  5.02799377e-02, -1.17780045e-02],\n",
       "          [-3.37251350e-02, -6.43774271e-02, -3.40078115e-01],\n",
       "          [-6.54921606e-02, -4.86816615e-02,  1.19881891e-01]],\n",
       " \n",
       "         [[ 1.93452299e-01,  4.78004664e-02,  1.84903994e-01],\n",
       "          [ 2.52570361e-01,  1.46437705e-01,  3.61832455e-02],\n",
       "          [ 3.32668096e-01, -2.28991136e-02, -1.57805413e-01]],\n",
       " \n",
       "         [[ 9.28454697e-02,  4.89211679e-01,  2.38020122e-01],\n",
       "          [ 1.97833359e-01,  1.16976380e-01,  3.93882573e-01],\n",
       "          [ 2.38642335e-01,  2.46991932e-01,  4.34236407e-01]],\n",
       " \n",
       "         [[-4.62671518e-01, -5.11609793e-01, -7.31865406e-01],\n",
       "          [-3.50244701e-01, -4.24189627e-01, -5.43779850e-01],\n",
       "          [-5.01255810e-01, -2.99028367e-01, -6.23751163e-01]]],\n",
       " \n",
       " \n",
       "        [[[ 3.99603620e-02, -4.12018672e-02,  3.24848667e-02],\n",
       "          [-1.01430841e-01, -1.00851543e-01, -3.44907820e-01],\n",
       "          [-3.71098012e-01, -2.67260253e-01, -1.19067505e-02]],\n",
       " \n",
       "         [[ 1.60027400e-01,  6.29487857e-02,  1.52286589e-01],\n",
       "          [ 1.08142160e-01,  1.60369605e-01,  2.02499330e-01],\n",
       "          [ 3.02165985e-01,  1.03283890e-01, -1.23685077e-02]],\n",
       " \n",
       "         [[ 7.78539181e-02,  4.91601229e-01,  5.72918713e-01],\n",
       "          [ 3.25698376e-01,  3.12072814e-01,  1.10874414e-01],\n",
       "          [ 3.12128574e-01,  4.26034927e-01,  4.28211093e-01]],\n",
       " \n",
       "         [[-4.30821955e-01, -3.27429533e-01, -2.29200199e-01],\n",
       "          [-3.68410230e-01, -5.16260147e-01, -4.64931667e-01],\n",
       "          [-4.43488181e-01, -1.66852549e-01, -1.96056470e-01]]],\n",
       " \n",
       " \n",
       "        [[[-1.10178053e-01, -2.97366291e-01, -4.14481193e-01],\n",
       "          [-5.31314388e-02, -2.16425329e-01,  3.02754268e-02],\n",
       "          [-1.80791080e-01,  9.20692310e-02, -3.02256733e-01]],\n",
       " \n",
       "         [[ 1.04300052e-01,  3.11103702e-01,  3.16839486e-01],\n",
       "          [ 1.54421896e-01,  7.94110149e-02,  8.10895339e-02],\n",
       "          [ 1.06764160e-01, -9.89453718e-02,  1.37391806e-01]],\n",
       " \n",
       "         [[ 3.70075643e-01,  2.56921291e-01, -1.75275803e-02],\n",
       "          [ 3.65229428e-01,  2.46308684e-01,  3.58370960e-01],\n",
       "          [ 1.61190748e-01,  4.45351303e-01,  5.04803598e-01]],\n",
       " \n",
       "         [[-2.87749648e-01, -4.15441155e-01, -2.50494391e-01],\n",
       "          [-6.29715860e-01, -3.26943099e-01, -4.23301905e-02],\n",
       "          [-3.12749147e-01, -5.08823156e-01, -7.40424097e-01]]],\n",
       " \n",
       " \n",
       "        [[[-3.82052392e-01, -3.79959196e-01, -1.08282298e-01],\n",
       "          [-1.62895411e-01,  1.15783565e-01, -1.91636622e-01],\n",
       "          [-1.23258904e-02, -4.35243368e-01, -1.27266124e-01]],\n",
       " \n",
       "         [[ 3.38065177e-01,  2.01494306e-01,  3.53420138e-01],\n",
       "          [-2.02481627e-01,  9.63839665e-02,  3.29880863e-02],\n",
       "          [ 2.46736109e-01,  1.94867760e-01,  2.63284564e-01]],\n",
       " \n",
       "         [[ 3.18835318e-01,  5.02734244e-01,  1.22565746e-01],\n",
       "          [ 5.79699218e-01,  2.75657833e-01,  3.93594563e-01],\n",
       "          [ 2.95917749e-01,  4.04327691e-01, -1.75818920e-01]],\n",
       " \n",
       "         [[-9.46891308e-01, -5.01488388e-01, -6.08891487e-01],\n",
       "          [-5.63709974e-01, -6.96228802e-01, -4.67223465e-01],\n",
       "          [-8.72304440e-01, -8.69834185e-01, -3.06105822e-01]]],\n",
       " \n",
       " \n",
       "        [[[-8.65095407e-02, -2.13660300e-01, -2.52728075e-01],\n",
       "          [ 8.19608048e-02, -2.33914822e-01, -1.35661125e-01],\n",
       "          [-2.28345990e-01, -5.68281889e-01, -1.13584213e-01]],\n",
       " \n",
       "         [[-7.12418780e-02,  9.94224846e-02,  3.28424752e-01],\n",
       "          [-3.49928364e-02, -4.20725942e-02,  7.40324780e-02],\n",
       "          [ 1.71775609e-01,  3.26168925e-01,  1.51491821e-01]],\n",
       " \n",
       "         [[ 4.18982029e-01,  2.77592510e-01,  3.43693912e-01],\n",
       "          [ 1.49306595e-01,  6.77862346e-01, -9.02861133e-02],\n",
       "          [ 3.92360687e-01,  3.85052085e-01, -1.18899517e-01]],\n",
       " \n",
       "         [[-5.34633577e-01, -3.32530916e-01, -4.00853872e-01],\n",
       "          [-6.25031352e-01, -5.86824834e-01, -2.80120552e-01],\n",
       "          [-9.34244156e-01, -6.27563953e-01, -2.33797759e-01]]],\n",
       " \n",
       " \n",
       "        [[[ 9.34180543e-02, -2.40860343e-01, -1.97883874e-01],\n",
       "          [-4.13928106e-02, -2.66798258e-01, -1.97075486e-01],\n",
       "          [ 1.94406718e-01, -3.13409537e-01,  1.87776774e-01]],\n",
       " \n",
       "         [[ 2.06400067e-01,  2.43354499e-01,  1.03197791e-01],\n",
       "          [ 1.99429631e-01,  3.89711857e-01,  2.00138539e-01],\n",
       "          [ 8.80435929e-02, -7.65178576e-02,  5.04438400e-01]],\n",
       " \n",
       "         [[ 3.20955634e-01,  7.19690621e-01,  1.96585506e-01],\n",
       "          [ 4.65024412e-01,  3.20956886e-01,  3.66401076e-02],\n",
       "          [ 3.97171378e-01,  4.13985908e-01,  2.09173948e-01]],\n",
       " \n",
       "         [[-7.99172044e-01, -9.57669199e-01, -3.84044528e-01],\n",
       "          [-7.10022509e-01, -5.88881850e-01, -4.13458198e-01],\n",
       "          [-5.53057313e-01, -3.96154612e-01, -5.05490243e-01]]],\n",
       " \n",
       " \n",
       "        [[[ 8.26787278e-02, -2.42561460e-01, -2.64680058e-01],\n",
       "          [-2.32464433e-01, -1.68616593e-01,  1.72056109e-01],\n",
       "          [-7.09684119e-02,  5.47214821e-02,  2.28086933e-02]],\n",
       " \n",
       "         [[ 1.10282041e-01,  3.33481610e-01,  3.73488888e-02],\n",
       "          [ 6.97564855e-02,  2.35532075e-01,  7.26350471e-02],\n",
       "          [ 1.82853043e-02,  2.96899199e-01, -1.57252550e-01]],\n",
       " \n",
       "         [[ 2.35773057e-01,  3.93487751e-01,  2.93303728e-01],\n",
       "          [ 8.87835920e-02,  2.69726396e-01,  2.88174212e-01],\n",
       "          [ 3.42331111e-01,  2.28320211e-01,  4.18984711e-01]],\n",
       " \n",
       "         [[-5.16244531e-01, -8.44614625e-01, -3.37310076e-01],\n",
       "          [-2.29874074e-01, -3.02256614e-01, -5.05796075e-01],\n",
       "          [-3.08607250e-01, -6.09067738e-01, -4.08555627e-01]]],\n",
       " \n",
       " \n",
       "        [[[-1.78960145e-01,  1.17770202e-01, -1.73892021e-01],\n",
       "          [-2.33702660e-01, -2.27015465e-03, -3.72117996e-01],\n",
       "          [-9.30299833e-02, -8.88739750e-02, -1.72551274e-01]],\n",
       " \n",
       "         [[-5.77389225e-02,  2.29757160e-01,  6.59202486e-02],\n",
       "          [ 1.12042487e-01,  2.59976655e-01,  2.97281802e-01],\n",
       "          [-2.00590730e-01, -8.89882818e-02,  2.59108096e-03]],\n",
       " \n",
       "         [[ 7.17534006e-01,  5.95773309e-02,  1.54578239e-01],\n",
       "          [ 1.58575356e-01,  4.16293025e-01, -4.50745225e-03],\n",
       "          [ 7.54769444e-02,  4.44286823e-01,  3.82361591e-01]],\n",
       " \n",
       "         [[-7.28547931e-01, -5.21892130e-01, -4.42880422e-01],\n",
       "          [-5.25576949e-01, -3.22038412e-01, -2.32582182e-01],\n",
       "          [-5.35557985e-01, -2.34665200e-01, -3.49417090e-01]]]],\n",
       "       dtype=float32),\n",
       " 'var': array([0.02468555, 0.02042241, 0.03514433, 0.03744219], dtype=float32),\n",
       " 'mean': array([-0.11544085,  0.13098305,  0.31073663, -0.48708022], dtype=float32)}"
      ]
     },
     "execution_count": 43,
     "metadata": {},
     "output_type": "execute_result"
    }
   ],
   "source": [
    "bn.__dict__"
   ]
  },
  {
   "cell_type": "code",
   "execution_count": 42,
   "metadata": {},
   "outputs": [
    {
     "data": {
      "text/plain": [
       "{'training': True,\n",
       " '_parameters': OrderedDict([('weight', Parameter containing:\n",
       "               tensor([1., 1., 1., 1.], requires_grad=True)),\n",
       "              ('bias',\n",
       "               Parameter containing:\n",
       "               tensor([0., 0., 0., 0.], requires_grad=True))]),\n",
       " '_buffers': OrderedDict([('running_mean',\n",
       "               tensor([-0.0115,  0.0131,  0.0311, -0.0487])),\n",
       "              ('running_var', tensor([0.9025, 0.9021, 0.9036, 0.9038])),\n",
       "              ('num_batches_tracked', tensor(1))]),\n",
       " '_non_persistent_buffers_set': set(),\n",
       " '_backward_hooks': OrderedDict(),\n",
       " '_is_full_backward_hook': None,\n",
       " '_forward_hooks': OrderedDict(),\n",
       " '_forward_pre_hooks': OrderedDict(),\n",
       " '_state_dict_hooks': OrderedDict(),\n",
       " '_load_state_dict_pre_hooks': OrderedDict(),\n",
       " '_load_state_dict_post_hooks': OrderedDict(),\n",
       " '_modules': OrderedDict(),\n",
       " 'num_features': 4,\n",
       " 'eps': 1e-05,\n",
       " 'momentum': 0.1,\n",
       " 'affine': True,\n",
       " 'track_running_stats': True}"
      ]
     },
     "execution_count": 42,
     "metadata": {},
     "output_type": "execute_result"
    }
   ],
   "source": [
    "b.__dict__"
   ]
  },
  {
   "cell_type": "code",
   "execution_count": null,
   "metadata": {},
   "outputs": [],
   "source": []
  }
 ],
 "metadata": {
  "kernelspec": {
   "display_name": "Python 3.9.7 64-bit ('jupyter_env': venv)",
   "language": "python",
   "name": "python3"
  },
  "language_info": {
   "codemirror_mode": {
    "name": "ipython",
    "version": 3
   },
   "file_extension": ".py",
   "mimetype": "text/x-python",
   "name": "python",
   "nbconvert_exporter": "python",
   "pygments_lexer": "ipython3",
   "version": "3.10.4"
  },
  "orig_nbformat": 4,
  "vscode": {
   "interpreter": {
    "hash": "63de50e7b25e2d4530c1fba2f289d719b4cf6796b377066a37d3e20c0a10034f"
   }
  }
 },
 "nbformat": 4,
 "nbformat_minor": 2
}
